{
 "cells": [
  {
   "cell_type": "code",
   "execution_count": 1,
   "id": "17727f85-718e-4b89-aef5-16fe3377f914",
   "metadata": {},
   "outputs": [
    {
     "ename": "NameError",
     "evalue": "name 'x' is not defined",
     "output_type": "error",
     "traceback": [
      "\u001b[1;31m---------------------------------------------------------------------------\u001b[0m",
      "\u001b[1;31mNameError\u001b[0m                                 Traceback (most recent call last)",
      "Cell \u001b[1;32mIn[1], line 1\u001b[0m\n\u001b[1;32m----> 1\u001b[0m x \u001b[38;5;241m<\u001b[39m\u001b[38;5;241m-\u001b[39m \u001b[38;5;241m5\u001b[39m    \u001b[38;5;66;03m# Assigns the value 5 to x\u001b[39;00m\n\u001b[0;32m      2\u001b[0m y \u001b[38;5;241m<\u001b[39m\u001b[38;5;241m-\u001b[39m \u001b[38;5;241m3\u001b[39m    \u001b[38;5;66;03m# Assigns the value 3 to y\u001b[39;00m\n\u001b[0;32m      3\u001b[0m sum_result \u001b[38;5;241m<\u001b[39m\u001b[38;5;241m-\u001b[39m x \u001b[38;5;241m+\u001b[39m y\n",
      "\u001b[1;31mNameError\u001b[0m: name 'x' is not defined"
     ]
    }
   ],
   "source": [
    "x <- 5    # Assigns the value 5 to x\n",
    "y <- 3    # Assigns the value 3 to y\n",
    "sum_result <- x + y\n",
    "product_result <- x * y\n",
    "\n",
    "print(paste('Sum of x and y: ', sum_result))\n",
    "print(paste('Product of x and y: ', product_result))\n",
    "\n"
   ]
  },
  {
   "cell_type": "code",
   "execution_count": null,
   "id": "9dadccc9-ad44-47b0-9b21-1c6a727b4263",
   "metadata": {},
   "outputs": [],
   "source": []
  }
 ],
 "metadata": {
  "kernelspec": {
   "display_name": "Python 3 (ipykernel)",
   "language": "python",
   "name": "python3"
  },
  "language_info": {
   "codemirror_mode": {
    "name": "ipython",
    "version": 3
   },
   "file_extension": ".py",
   "mimetype": "text/x-python",
   "name": "python",
   "nbconvert_exporter": "python",
   "pygments_lexer": "ipython3",
   "version": "3.12.7"
  }
 },
 "nbformat": 4,
 "nbformat_minor": 5
}
